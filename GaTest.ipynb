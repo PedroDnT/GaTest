{
 "cells": [
  {
   "cell_type": "code",
   "execution_count": 309,
   "metadata": {},
   "outputs": [],
   "source": [
    "\"\"\" \n",
    "0. Exisisting Population\n",
    "1. Fitness Eval\n",
    "2. Breeding\n",
    "3. Mutation\n",
    "4. Increment Generation \n",
    "5. Restart\n",
    "\"\"\"\n",
    "\n",
    "from random import random\n",
    "\n",
    "# First we create a function to populate a single DNA with diff. genes given a parameter\n",
    "def ind_dna(lenght, min, max):\n",
    "    i=0\n",
    "    temp_list =[]\n",
    "    while i < lenght:\n",
    "    # Populate the list with different types\n",
    "        temp_list.append(randint(min, max))\n",
    "        i=i+1\n",
    "        pass\n",
    "    return temp_list\n",
    "    "
   ]
  },
  {
   "cell_type": "code",
   "execution_count": 310,
   "metadata": {},
   "outputs": [
    {
     "name": "stdout",
     "output_type": "stream",
     "text": [
      "[4, 2, 1]\n"
     ]
    }
   ],
   "source": [
    "print(ind_dna(3,1,4))"
   ]
  },
  {
   "cell_type": "code",
   "execution_count": 523,
   "metadata": {},
   "outputs": [],
   "source": [
    "def population(size, lenght, min, max):\n",
    "    r=0\n",
    "    tempo_list = []\n",
    "    t=False\n",
    "    \n",
    "    while r < size:       \n",
    "        l = randint(min,max)\n",
    "        u = randint(l, max)\n",
    "        tempo_list.append(ind_dna(lenght,l,u))\n",
    "        r = r + 1\n",
    "    return tempo_list"
   ]
  },
  {
   "cell_type": "code",
   "execution_count": 531,
   "metadata": {},
   "outputs": [
    {
     "name": "stdout",
     "output_type": "stream",
     "text": [
      "[[3, 2, 2], [1, 2, 1], [7, 7, 7], [1, 1, 1]]\n"
     ]
    }
   ],
   "source": [
    "print(population(4,3,1,7))"
   ]
  },
  {
   "cell_type": "code",
   "execution_count": 615,
   "metadata": {},
   "outputs": [],
   "source": [
    "import operator \n",
    "from six.moves import reduce\n",
    "\n",
    "def fitness(ind_dna, target):\n",
    "    \"\"\"\n",
    "    Determine the fitness of an individual \n",
    "    target: the constrain thatr we impose on the individual \n",
    "    \"\"\"\n",
    "    total = sum(ind_dna)\n",
    "    fit = abs(target - total)\n",
    "    return fit "
   ]
  },
  {
   "cell_type": "code",
   "execution_count": 619,
   "metadata": {},
   "outputs": [
    {
     "name": "stdout",
     "output_type": "stream",
     "text": [
      "[4, 2, 3]\n",
      "9\n"
     ]
    },
    {
     "data": {
      "text/plain": [
       "1"
      ]
     },
     "execution_count": 619,
     "metadata": {},
     "output_type": "execute_result"
    }
   ],
   "source": [
    "a=ind_dna(3,1,4)\n",
    "print(a) \n",
    "print(sum(a))\n",
    "fitness(a, 10)"
   ]
  },
  {
   "cell_type": "code",
   "execution_count": 645,
   "metadata": {
    "collapsed": true
   },
   "outputs": [],
   "source": [
    "from functools import reduce\n",
    "def pop_grade(pop, target): \n",
    "    ' find average fitness score for a population'\n",
    "    summed = reduce(operator.add, (fitness(x, target) for x in pop), 0)\n",
    "    grade = summed / len(pop) * 1.0\n",
    "    grade = round(grade, 2)\n",
    "    return grade"
   ]
  },
  {
   "cell_type": "code",
   "execution_count": 671,
   "metadata": {},
   "outputs": [
    {
     "name": "stdout",
     "output_type": "stream",
     "text": [
      "[[3, 36, 17, 30, 23], [56, 57, 60, 57, 56], [47, 71, 16, 8, 55]]\n",
      "Avg. Grade for population is 60.0.\n"
     ]
    }
   ],
   "source": [
    "from functools import reduce\n",
    "x = population(3,5,0,100)\n",
    "target = 200\n",
    "g=pop_grade(x,target)\n",
    "print(x)\n",
    "print(f\"Avg. Grade for population is: {g}.\")"
   ]
  }
 ],
 "metadata": {
  "kernelspec": {
   "display_name": "Python 3",
   "language": "python",
   "name": "python3"
  },
  "language_info": {
   "codemirror_mode": {
    "name": "ipython",
    "version": 3
   },
   "file_extension": ".py",
   "mimetype": "text/x-python",
   "name": "python",
   "nbconvert_exporter": "python",
   "pygments_lexer": "ipython3",
   "version": "3.6.1"
  }
 },
 "nbformat": 4,
 "nbformat_minor": 2
}
